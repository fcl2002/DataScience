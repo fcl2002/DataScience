{
 "cells": [
  {
   "cell_type": "code",
   "execution_count": 9,
   "metadata": {},
   "outputs": [
    {
     "name": "stdout",
     "output_type": "stream",
     "text": [
      "aprovado\n"
     ]
    }
   ],
   "source": [
    "x = 10\n",
    "type(x) #saber o tipo de dados da variável\n",
    "\n",
    "'''entrada\n",
    "x = input(\"digite um valor\")\n",
    "x = int(x)\n",
    "x '''\n",
    "\n",
    "nota = 10\n",
    "if nota > 8 and nota < 11:\n",
    "    print(\"aprovado\")\n",
    "#elif - estrutura intermediária, equivalente ao 'else if'"
   ]
  },
  {
   "cell_type": "code",
   "execution_count": null,
   "metadata": {},
   "outputs": [],
   "source": [
    "#Listas\n",
    "lst = [1, 2, 3, 4, 5]\n",
    "lst2 = [1, 2, \"4\", True]\n",
    "lst3 = [12, [1, 2, 3], \"4\"]\n",
    "lst4 = list(range(0,10))\n",
    "print(lst4)\n",
    "\n",
    "lst[0] # acesso ao primeiro elemento\n",
    "len(lst) # nº de elementos da lista"
   ]
  },
  {
   "attachments": {},
   "cell_type": "markdown",
   "metadata": {},
   "source": [
    "Numpy - objeto de matriz multidimensional de tamanho fixo e com os elementos de um mesmo tipo de dados"
   ]
  },
  {
   "cell_type": "code",
   "execution_count": null,
   "metadata": {},
   "outputs": [],
   "source": [
    "#Dicionários - armazenam estruturas chaves / valores\n",
    "Precos = {'lapis':5.5, 'borracha':7.0, 'caneta':6.5}\n",
    "\n",
    "print(Precos['lapis'])\n",
    "\n",
    "#todas as chaves\n",
    "Precos.keys()\n",
    "#todos os valores\n",
    "Precos.values()\n",
    "#testa logicamente a existência\n",
    "print('lapis' in Precos)\n",
    "print('lapiseira' in Precos)\n",
    "#apaga um elemento\n",
    "del Precos['borracha']\n",
    "print(Precos)\n",
    "#inclui um elemento\n",
    "Precos['lapiseira'] = 10\n",
    "print(Precos)\n",
    "#busca um valor, se não encontrado mostra a segunda opção\n",
    "Precos.get('borracha', \"Não encontrado!\")"
   ]
  },
  {
   "cell_type": "code",
   "execution_count": 23,
   "metadata": {},
   "outputs": [
    {
     "name": "stdout",
     "output_type": "stream",
     "text": [
      "{'gatos', 'cachorros'}\n",
      "{'gatos', 'cachorros', 'cavalos'}\n"
     ]
    }
   ],
   "source": [
    "#Sets - conjunto não ordenados e não repetidos de elementos\n",
    "animais = {'gatos', 'cachorros', \"gatos\"}\n",
    "print(animais)\n",
    "\n",
    "#verifica a existência\n",
    "#adiciona elemento\n",
    "animais.add('cavalos')\n",
    "print(animais)"
   ]
  },
  {
   "cell_type": "code",
   "execution_count": 22,
   "metadata": {},
   "outputs": [
    {
     "data": {
      "text/plain": [
       "3"
      ]
     },
     "execution_count": 22,
     "metadata": {},
     "output_type": "execute_result"
    }
   ],
   "source": [
    "#Tuplas - listas que não podem ser alteradas\n",
    "tp1 = (1, 2, 3, 4, 5)\n",
    "tp1[2]"
   ]
  }
 ],
 "metadata": {
  "kernelspec": {
   "display_name": "Python 3",
   "language": "python",
   "name": "python3"
  },
  "language_info": {
   "codemirror_mode": {
    "name": "ipython",
    "version": 3
   },
   "file_extension": ".py",
   "mimetype": "text/x-python",
   "name": "python",
   "nbconvert_exporter": "python",
   "pygments_lexer": "ipython3",
   "version": "3.10.11"
  },
  "orig_nbformat": 4
 },
 "nbformat": 4,
 "nbformat_minor": 2
}
