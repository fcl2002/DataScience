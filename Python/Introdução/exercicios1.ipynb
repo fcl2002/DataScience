{
 "cells": [
  {
   "cell_type": "code",
   "execution_count": 15,
   "metadata": {},
   "outputs": [
    {
     "name": "stdout",
     "output_type": "stream",
     "text": [
      "amplitude:  21\n"
     ]
    }
   ],
   "source": [
    "#exercício 1\n",
    "def amplitude(lst):\n",
    "    print(\"amplitude: \", max(lst)-min(lst))\n",
    "    \n",
    "lista = [10, 2, 23, 4, 5, 17]\n",
    "amplitude(lista)\n",
    "    "
   ]
  },
  {
   "cell_type": "code",
   "execution_count": null,
   "metadata": {},
   "outputs": [],
   "source": [
    "#exercício 2\n",
    "def imprime(str):\n",
    "    for i in range(0, len(str)):\n",
    "        print(str[i])\n",
    "\n",
    "string = \"ciência de dados\"\n",
    "imprime(string)"
   ]
  },
  {
   "cell_type": "code",
   "execution_count": 13,
   "metadata": {},
   "outputs": [
    {
     "name": "stdout",
     "output_type": "stream",
     "text": [
      "transporte não aceito!\n"
     ]
    }
   ],
   "source": [
    "#exercício 3\n",
    "def peso(weight):\n",
    "    if weight <= 10:\n",
    "        print(\"valor = R$ 50,00\")\n",
    "    elif weight <= 20:\n",
    "        print(\"valor = R$ 80,00\")\n",
    "    else:\n",
    "        print(\"transporte não aceito!\")\n",
    "\n",
    "carga = input(\" digite o peso da carga(int): \")\n",
    "carga = int(carga)\n",
    "peso(carga)"
   ]
  }
 ],
 "metadata": {
  "kernelspec": {
   "display_name": "Python 3",
   "language": "python",
   "name": "python3"
  },
  "language_info": {
   "codemirror_mode": {
    "name": "ipython",
    "version": 3
   },
   "file_extension": ".py",
   "mimetype": "text/x-python",
   "name": "python",
   "nbconvert_exporter": "python",
   "pygments_lexer": "ipython3",
   "version": "3.10.11"
  },
  "orig_nbformat": 4
 },
 "nbformat": 4,
 "nbformat_minor": 2
}
