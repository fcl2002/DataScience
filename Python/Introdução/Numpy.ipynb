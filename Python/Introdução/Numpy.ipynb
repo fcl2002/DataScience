{
 "cells": [
  {
   "cell_type": "code",
   "execution_count": null,
   "metadata": {},
   "outputs": [],
   "source": [
    "import numpy as np\n",
    "\n",
    "math = np.array([1, 2, 3, 4, 5])\n",
    "mt1 = math.astype(float) #função 'astype' usada para conversão de tipos de dados, no caso 'int' para 'float'\n",
    "\n",
    "#criar arrays vazios tipificados\n",
    "#empty significa que não são inicializados, não que são vazios\n",
    "vazio = np.empty([3,2], dtype = int)\n",
    "print(vazio)\n",
    "print(\"----------\")\n",
    "#matriz 4x3 com valores zero\n",
    "zeros = np.zeros([4, 3])\n",
    "print(zeros)\n",
    "print(\"----------\")\n",
    "#com valores iguais a um\n",
    "um = np.ones([2, 3])\n",
    "print(um)\n",
    "print(\"----------\")\n",
    "#matriz quadrada com diagonal principal com valores q e outros valores zero\n",
    "diagonal = np.eye(3)\n",
    "print(diagonal)"
   ]
  },
  {
   "cell_type": "code",
   "execution_count": null,
   "metadata": {},
   "outputs": [],
   "source": [
    "#valores aleatórios entre zero e um\n",
    "ale = np.random.random((5))\n",
    "print(ale)\n",
    "print(\"----------\")\n",
    "#valores aletórios distribuição normal contendo negativos\n",
    "ale2 = np.random.randn((5))\n",
    "print(ale2)\n",
    "print(\"----------\")\n",
    "#vaores aletórios 3 x 4\n",
    "ale3 = (10*np.random.random((3, 4)))\n",
    "print(ale3)\n",
    "print(\"----------\")\n",
    "#outra forma de gerar aletórios\n",
    "#uso de semente\n",
    "gnr = np.random.default_rng(1)\n",
    "ale4 = gnr.random(3)\n",
    "print(ale4)\n",
    "print(\"----------\")\n",
    "#gerar inteiros\n",
    "ale5 = gnr.integers(10, size=(3, 4))\n",
    "print(ale5)"
   ]
  },
  {
   "cell_type": "code",
   "execution_count": 5,
   "metadata": {},
   "outputs": [
    {
     "name": "stdout",
     "output_type": "stream",
     "text": [
      "[10 11 13 14 17]\n"
     ]
    }
   ],
   "source": [
    "#unique remove repetições\n",
    "j = np.array([10, 10, 10, 11, 13, 14, 10, 17])\n",
    "j = np.unique(j)\n",
    "print(j)"
   ]
  },
  {
   "cell_type": "code",
   "execution_count": 8,
   "metadata": {},
   "outputs": [
    {
     "name": "stdout",
     "output_type": "stream",
     "text": [
      "[[ 2 12]\n",
      " [ 4 14]]\n",
      "----------\n",
      "[[ 1 20]\n",
      " [ 3 40]]\n"
     ]
    }
   ],
   "source": [
    "#funções matemáticas\n",
    "#adição e multiplicação de matriz\n",
    "n = np.array([[1, 2], [3, 4]])\n",
    "o = np.array([[1, 10], [1, 10]])\n",
    "\n",
    "res1 = n+o\n",
    "print(res1)\n",
    "print(\"----------\")\n",
    "res2 = n*o #elemento a elemento\n",
    "print(res2)"
   ]
  }
 ],
 "metadata": {
  "kernelspec": {
   "display_name": "Python 3",
   "language": "python",
   "name": "python3"
  },
  "language_info": {
   "codemirror_mode": {
    "name": "ipython",
    "version": 3
   },
   "file_extension": ".py",
   "mimetype": "text/x-python",
   "name": "python",
   "nbconvert_exporter": "python",
   "pygments_lexer": "ipython3",
   "version": "3.10.11"
  },
  "orig_nbformat": 4
 },
 "nbformat": 4,
 "nbformat_minor": 2
}
