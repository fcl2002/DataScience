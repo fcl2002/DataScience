{
 "cells": [
  {
   "cell_type": "code",
   "execution_count": null,
   "metadata": {},
   "outputs": [],
   "source": [
    "import seaborn as sbn\n",
    "import pandas as pd\n",
    "import statistics as sts\n",
    "\n",
    "#importar dados\n",
    "dataset = pd.read_csv(\"Churn.csv\", sep = \";\")\n",
    "#visualizar\n",
    "dataset.head()"
   ]
  },
  {
   "cell_type": "code",
   "execution_count": null,
   "metadata": {},
   "outputs": [],
   "source": [
    "#tamanho\n",
    "print(dataset.shape)\n",
    "\n",
    "#primeiro problema: dar nomes as colunas\n",
    "dataset.columns = [\"Id\", \"Score\", \"Estado\", \"Gênero\", \"Idade\", \"Patrimônio\", \"Saldo\", \"Produtos\", \"TemCartCrédito\", \"Ativo\", \"Salário\", \"Saiu\"]\n",
    "print(dataset.head())"
   ]
  },
  {
   "cell_type": "code",
   "execution_count": null,
   "metadata": {},
   "outputs": [],
   "source": [
    "#explorando dados categóricos\n",
    "#estado\n",
    "agrupado = dataset.groupby(['Estado']).size()\n",
    "print(agrupado)\n",
    "agrupado.plot.bar(color = 'gray')"
   ]
  },
  {
   "cell_type": "code",
   "execution_count": null,
   "metadata": {},
   "outputs": [],
   "source": [
    "#gênero\n",
    "agrupado = dataset.groupby(['Gênero']).size()\n",
    "print(agrupado)\n",
    "agrupado.plot.bar(color = 'blue')"
   ]
  },
  {
   "attachments": {},
   "cell_type": "markdown",
   "metadata": {},
   "source": [
    "Análise exploratória - encontrando erros a serem tratados"
   ]
  },
  {
   "cell_type": "code",
   "execution_count": null,
   "metadata": {},
   "outputs": [],
   "source": [
    "#score\n",
    "print(dataset['Score'].describe())"
   ]
  },
  {
   "cell_type": "code",
   "execution_count": null,
   "metadata": {},
   "outputs": [],
   "source": [
    "sbn.boxplot(dataset['Score']).set_title('Score')"
   ]
  },
  {
   "cell_type": "code",
   "execution_count": null,
   "metadata": {},
   "outputs": [],
   "source": [
    "sbn.distplot(dataset['Score']).set_title('Score')"
   ]
  },
  {
   "cell_type": "code",
   "execution_count": null,
   "metadata": {},
   "outputs": [],
   "source": [
    "#idade\n",
    "dataset['Idade'].describe()"
   ]
  },
  {
   "cell_type": "code",
   "execution_count": null,
   "metadata": {},
   "outputs": [],
   "source": [
    "sbn.boxplot(dataset['Idade']).set_title('Idade')"
   ]
  },
  {
   "cell_type": "code",
   "execution_count": null,
   "metadata": {},
   "outputs": [],
   "source": [
    "sbn.distplot(dataset['Idade']).set_title('Idade')"
   ]
  },
  {
   "cell_type": "code",
   "execution_count": null,
   "metadata": {},
   "outputs": [],
   "source": [
    "#saldo\n",
    "dataset['Saldo'].describe()"
   ]
  },
  {
   "cell_type": "code",
   "execution_count": null,
   "metadata": {},
   "outputs": [],
   "source": [
    "sbn.boxplot(dataset['Saldo']).set_title('Saldo')"
   ]
  },
  {
   "cell_type": "code",
   "execution_count": null,
   "metadata": {},
   "outputs": [],
   "source": [
    "sbn.distplot(dataset['Saldo']).set_title('Saldo')"
   ]
  },
  {
   "cell_type": "code",
   "execution_count": null,
   "metadata": {},
   "outputs": [],
   "source": [
    "#salário\n",
    "dataset['Salário'].describe()"
   ]
  },
  {
   "cell_type": "code",
   "execution_count": null,
   "metadata": {},
   "outputs": [],
   "source": [
    "sbn.boxplot(dataset['Salário']).set_title('Salário')"
   ]
  },
  {
   "cell_type": "code",
   "execution_count": null,
   "metadata": {},
   "outputs": [],
   "source": [
    "sbn.distplot(dataset['Salário']).set_title('Salário')"
   ]
  },
  {
   "cell_type": "code",
   "execution_count": null,
   "metadata": {},
   "outputs": [],
   "source": [
    "#contamos valores NAN\n",
    "#gênero e salário\n",
    "dataset.isnull().sum()"
   ]
  },
  {
   "attachments": {},
   "cell_type": "markdown",
   "metadata": {},
   "source": [
    "Tratamento dos dados - resolvendo problemas identificados na análise exploratória"
   ]
  },
  {
   "cell_type": "code",
   "execution_count": null,
   "metadata": {},
   "outputs": [],
   "source": [
    "#salário\n",
    "#remover NANs e substituir pela mediana\n",
    "print(dataset['Salário'].describe())\n",
    "\n",
    "mediana = sts.median(dataset['Salário'])\n",
    "print(\"mediana: \", mediana)\n",
    "\n",
    "#substituir NANs por mediana\n",
    "dataset['Salário'].fillna(mediana, inplace = True) #substitui pela variável mediana e 'inplace' garante a substituição no próprio conjunto de dados\n",
    "\n",
    "#verificamos se NANs não existem mais\n",
    "print(\"NANs: \", dataset['Salário'].isnull().sum())"
   ]
  },
  {
   "cell_type": "code",
   "execution_count": null,
   "metadata": {},
   "outputs": [],
   "source": [
    "#gênero, falta e padronização e NANs\n",
    "agrupado = dataset.groupby(['Gênero']).size()\n",
    "#print(agrupado)\n",
    "\n",
    "#total de NANs\n",
    "print(\"Total NANs: \", dataset['Gênero'].isnull().sum())\n",
    "\n",
    "#preenche NANs com Masculino (moda)\n",
    "dataset['Gênero'].fillna('Masculino', inplace = True) #preenchemos com o 'Masculino' por ser a 'moda' - (valor que mais ocorre)\n",
    "#verificamos os NANs novamente\n",
    "print(\"NANs: \", dataset['Gênero'].isnull().sum())\n",
    "\n",
    "#padronização de acordo com o domínio\n",
    "dataset.loc[dataset['Gênero'] == 'M', 'Gênero'] = \"Masculino\" #se Gênero for 'M', então a coluna Gênero recebe 'Masculino'\n",
    "dataset.loc[dataset['Gênero'].isin(['Fem', 'F']), 'Gênero'] = \"Feminino\" #isin() = 'está em' - analisar mais de um valor\n",
    "#visualização do resultado\n",
    "print(\"\\n\", dataset.groupby(['Gênero']).size())"
   ]
  },
  {
   "cell_type": "code",
   "execution_count": null,
   "metadata": {},
   "outputs": [],
   "source": [
    "#idades fora do domínio\n",
    "print(dataset['Idade'].describe())\n",
    "\n",
    "#visualizar\n",
    "print(\"\\n\", dataset.loc[(dataset['Idade'] < 0) | (dataset['Idade'] > 120)])\n",
    "\n",
    "#calcular a mediana\n",
    "mediana = sts.median(dataset['Idade'])\n",
    "print(\"Mediana(Idade): \", mediana)\n",
    "\n",
    "#substituição\n",
    "dataset.loc[(dataset['Idade'] < 0) | (dataset['Idade'] > 120), 'Idade'] = mediana\n",
    "#verificação\n",
    "print(\"\\n\", dataset.loc[(dataset['Idade'] < 0) | (dataset['Idade'] > 120)])"
   ]
  },
  {
   "cell_type": "code",
   "execution_count": null,
   "metadata": {},
   "outputs": [],
   "source": [
    "#dados duplicados, buscamos pelo ID\n",
    "print(dataset[dataset.duplicated(['Id'], keep = False)])\n",
    "\n",
    "#excluímos pelo ID\n",
    "dataset.drop_duplicates(subset = \"Id\", keep = 'first', inplace = True) #subset - coluna que busca as duplicações, keep - manter o primeiro dado, inplace - atualização do próprio conjunto de dados\n",
    "#buscamos duplicados\n",
    "print(\"\\n\", dataset[dataset.duplicated(['Id'], keep = False)])"
   ]
  },
  {
   "cell_type": "code",
   "execution_count": null,
   "metadata": {},
   "outputs": [],
   "source": [
    "#estados fora do domínio\n",
    "print(dataset.groupby(['Estado']).size())\n",
    "\n",
    "#atribuímos RS (moda - o que mais repete)\n",
    "dataset.loc[dataset['Estado'].isin(['RP', 'SP', 'TD']), 'Estado'] = \"RS\"\n",
    "print(\"\\n\", dataset.groupby(['Estado']).size())"
   ]
  },
  {
   "cell_type": "code",
   "execution_count": null,
   "metadata": {},
   "outputs": [],
   "source": [
    "#outliers em salário, vamos consierar 2 desvios padrão\n",
    "desv = sts.stdev(dataset['Salário'])\n",
    "print(desv)\n",
    "\n",
    "#definir padrão como maior que 3 desvios padrão\n",
    "#checamos se algum atende ao critério\n",
    "print(dataset.loc[dataset['Salário'] >= 2 * desv])\n",
    "\n",
    "#atualizando salários para a mediana\n",
    "mediana = sts.median(dataset['Salário'])\n",
    "print(\"Mediana(Salário): \", mediana)\n",
    "\n",
    "#atribuição\n",
    "dataset.loc[dataset['Salário'] >= 2 * desv, 'Salário'] = mediana\n",
    "#checamos se algum atende ao critério\n",
    "print(dataset.loc[dataset['Salário'] >= 2 * desv])\n"
   ]
  },
  {
   "cell_type": "code",
   "execution_count": null,
   "metadata": {},
   "outputs": [],
   "source": [
    "dataset.head()"
   ]
  },
  {
   "cell_type": "code",
   "execution_count": 67,
   "metadata": {},
   "outputs": [
    {
     "data": {
      "text/plain": [
       "(998, 12)"
      ]
     },
     "execution_count": 67,
     "metadata": {},
     "output_type": "execute_result"
    }
   ],
   "source": [
    "dataset.shape"
   ]
  }
 ],
 "metadata": {
  "kernelspec": {
   "display_name": "Python 3",
   "language": "python",
   "name": "python3"
  },
  "language_info": {
   "codemirror_mode": {
    "name": "ipython",
    "version": 3
   },
   "file_extension": ".py",
   "mimetype": "text/x-python",
   "name": "python",
   "nbconvert_exporter": "python",
   "pygments_lexer": "ipython3",
   "version": "3.10.9"
  },
  "orig_nbformat": 4
 },
 "nbformat": 4,
 "nbformat_minor": 2
}
