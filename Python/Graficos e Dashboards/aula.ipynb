{
 "cells": [
  {
   "attachments": {},
   "cell_type": "markdown",
   "metadata": {},
   "source": [
    "A visualização de dados é uma ciência, e por isso funciona melhor com a aplicação de boas práticas.\n",
    "\n",
    "Dicas para criar dashboards:\n",
    "1. Comparado ao que?\n",
    "2. Bom ou ruim?\n",
    "3. Métricas corretas?\n",
    "4. Tema\n",
    "5. Tamanho e resolução\n",
    "6. Melhores e Piores\n",
    "7. Excesso ou falta de níveis\n",
    "8. Proporção\n",
    "\n",
    "Conceito ACCENT - Percepção, Clareza, Consistência, Eficiência, Necessidade e Veracidade.\n",
    "Conseguimos guardar de 3 a 9 informações visuais em nosso cérebro.\n",
    "site http://colorlab.wickline.org/colorblind/colorlab/\n"
   ]
  },
  {
   "attachments": {},
   "cell_type": "markdown",
   "metadata": {},
   "source": [
    "Capacidade de Percepção do Cérebro Humano\n",
    "Gráfico: barras (preferencialmente)"
   ]
  }
 ],
 "metadata": {
  "language_info": {
   "name": "python"
  },
  "orig_nbformat": 4
 },
 "nbformat": 4,
 "nbformat_minor": 2
}
