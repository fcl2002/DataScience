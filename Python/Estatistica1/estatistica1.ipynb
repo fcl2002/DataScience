{
 "cells": [
  {
   "attachments": {},
   "cell_type": "markdown",
   "metadata": {},
   "source": [
    "Descritiva\n",
    "    -> objetiva organizar, demonstrar e resumir dados. (análise de dados exploratória e construção de gráficos)\n",
    "\n",
    "Probabilística\n",
    "    -> analisar situações sujeita ao acaso. (jogar moeda cara/coroa)\n",
    "\n",
    "Inferência\n",
    "    -> obter respostas sobre um fenômeno com dados representativos."
   ]
  },
  {
   "attachments": {},
   "cell_type": "markdown",
   "metadata": {},
   "source": [
    "Variáveis\n",
    "\n",
    "Quantitativa - numéricas\n",
    "    * contínuas: valores reais, podem assumir qualquer intervalo;\n",
    "    * discretas: numéros fixos, inteiro e num intervalo.\n",
    "\n",
    "Qualitativa - categóricas\n",
    "    * nominais: categorias sem hierarquia;\n",
    "    * ordinais: categorias com hierarquia."
   ]
  },
  {
   "attachments": {},
   "cell_type": "markdown",
   "metadata": {},
   "source": [
    "EDA - Análise Exploratória de Dados\n",
    "    -> buscar obter informações ocultas sobre os dados;\n",
    "        -> variação, anomalias, distribuição, tendências, padrões, relações.\n",
    "    -> altamente baseada na produção de gráficos."
   ]
  },
  {
   "attachments": {},
   "cell_type": "markdown",
   "metadata": {},
   "source": [
    "Amostragem\n",
    "    -> parte de uma população, selecionada usando alguma técnica.\n",
    "    -> deve representar as mesmas características da população de onde foi retirada.\n",
    "\n",
    "    1. Aleatória Simples\n",
    "        -> um determinado nº de elementos é retirado da população de forma aletória.\n",
    "\n",
    "    2. Estratificada\n",
    "        -> representações de estratos de forma proporcional (divisões/camadas)\n",
    "\n",
    "    3. Sistemática\n",
    "        -> é escolhido um elemento aletório, e a partit daí, a cada N elementos um novo membro é escolhido.\n",
    "        "
   ]
  },
  {
   "attachments": {},
   "cell_type": "markdown",
   "metadata": {},
   "source": [
    "Passeio Aleatório: sucessão de etapas aleatórias e independentes (ações em bolsa de valores); existe uma distribuição de probabilidades (dado);"
   ]
  },
  {
   "attachments": {},
   "cell_type": "markdown",
   "metadata": {},
   "source": [
    "Distribuição Normal ou Gaussiana\n",
    "    -> dados dispostos em forma de 'sino'"
   ]
  }
 ],
 "metadata": {
  "language_info": {
   "name": "python"
  },
  "orig_nbformat": 4
 },
 "nbformat": 4,
 "nbformat_minor": 2
}
