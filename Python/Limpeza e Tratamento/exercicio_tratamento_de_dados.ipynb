{
 "cells": [
  {
   "cell_type": "code",
   "execution_count": null,
   "metadata": {},
   "outputs": [],
   "source": [
    "import seaborn as sb\n",
    "import pandas as pd\n",
    "import statistics as sts\n",
    "\n",
    "#importar dados\n",
    "dataset = pd.read_csv(\"tempo.csv\", sep = \";\")\n",
    "#visualizar\n",
    "print(dataset.head())\n",
    "\n",
    "print(dataset.shape)"
   ]
  },
  {
   "cell_type": "code",
   "execution_count": null,
   "metadata": {},
   "outputs": [],
   "source": [
    "#análise e tratamento da coluna 'Aparência' - dados fora do intervalo [sol, nublado, chuva]\n",
    "print(dataset.groupby(['Aparencia']).size())"
   ]
  },
  {
   "cell_type": "code",
   "execution_count": null,
   "metadata": {},
   "outputs": [],
   "source": [
    "#atribuindo 'chuva' ao conjuntos fora de intervalo (moda)\n",
    "dataset.loc[(dataset['Aparencia'] != 'sol') & (dataset['Aparencia'] != 'nublado') & (dataset['Aparencia'] != 'chuva'), 'Aparencia'] = \"chuva\"\n",
    "print(dataset.groupby(['Aparencia']).size())"
   ]
  },
  {
   "cell_type": "code",
   "execution_count": null,
   "metadata": {},
   "outputs": [],
   "source": [
    "#análise e tratamento da coluna 'Temperatura' - itervalo [-130 ~ 130]°F\n",
    "print(dataset.groupby(['Temperatura']).size())\n",
    "print(dataset['Temperatura'].isnull().sum())"
   ]
  },
  {
   "cell_type": "code",
   "execution_count": null,
   "metadata": {},
   "outputs": [],
   "source": [
    "mediana = sts.median(dataset['Temperatura'])\n",
    "dataset.loc[(dataset['Temperatura'] < -130) | (dataset['Temperatura'] > 130), 'Temperatura'] = mediana\n",
    "sb.boxplot(dataset['Temperatura']).set_title('Temperatura')"
   ]
  },
  {
   "cell_type": "code",
   "execution_count": null,
   "metadata": {},
   "outputs": [],
   "source": [
    "#análise e tratamento da coluna 'Umidade' - intervalo [0 ~ 100]e preenchendo os NANs\n",
    "print(dataset['Umidade'].describe())\n",
    "print(dataset['Umidade'].isnull().sum())\n",
    "print(sb.boxplot(dataset['Umidade']).set_title('Umidade'))"
   ]
  },
  {
   "cell_type": "code",
   "execution_count": null,
   "metadata": {},
   "outputs": [],
   "source": [
    "#correção dos números fora de intervalo\n",
    "mediana = sts.median(dataset['Umidade'])\n",
    "dataset.loc[(dataset['Umidade'] < 0) | (dataset['Umidade'] > 100), 'Umidade'] = mediana\n",
    "#correção dos NANs\n",
    "dataset['Umidade'].fillna(mediana, inplace = True)\n",
    "\n",
    "print(\"NAs: \", dataset['Umidade'].isnull().sum())\n",
    "print(sb.boxplot(dataset['Umidade']).set_title('Umidade'))"
   ]
  },
  {
   "cell_type": "code",
   "execution_count": null,
   "metadata": {},
   "outputs": [],
   "source": [
    "#análise e tratamento da coluna 'Jogar' - bool[sim/não]\n",
    "print(dataset['Jogar'].describe())\n",
    "print(\"NAs: \",dataset['Jogar'].isnull().sum())\n",
    "sb.countplot(x='Jogar', data = dataset)"
   ]
  },
  {
   "cell_type": "code",
   "execution_count": null,
   "metadata": {},
   "outputs": [],
   "source": [
    "#análise e tratamento da coluna 'Vento'\n",
    "print(dataset.groupby(dataset['Vento']).size())\n",
    "print(dataset['Vento'].isnull().sum())"
   ]
  },
  {
   "cell_type": "code",
   "execution_count": null,
   "metadata": {},
   "outputs": [],
   "source": [
    "dataset['Vento'].fillna('FALSO', inplace = True)\n",
    "dataset['Vento'].isnull().sum()"
   ]
  },
  {
   "cell_type": "code",
   "execution_count": null,
   "metadata": {},
   "outputs": [],
   "source": [
    "dataset.head()"
   ]
  },
  {
   "cell_type": "code",
   "execution_count": 11,
   "metadata": {},
   "outputs": [
    {
     "data": {
      "text/plain": [
       "(14, 5)"
      ]
     },
     "execution_count": 11,
     "metadata": {},
     "output_type": "execute_result"
    }
   ],
   "source": [
    "dataset.shape"
   ]
  }
 ],
 "metadata": {
  "kernelspec": {
   "display_name": "base",
   "language": "python",
   "name": "python3"
  },
  "language_info": {
   "codemirror_mode": {
    "name": "ipython",
    "version": 3
   },
   "file_extension": ".py",
   "mimetype": "text/x-python",
   "name": "python",
   "nbconvert_exporter": "python",
   "pygments_lexer": "ipython3",
   "version": "3.10.9"
  },
  "orig_nbformat": 4
 },
 "nbformat": 4,
 "nbformat_minor": 2
}
